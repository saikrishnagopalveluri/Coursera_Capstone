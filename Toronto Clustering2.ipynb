{
    "nbformat_minor": 1, 
    "cells": [
        {
            "source": "import random # library for random number generation\nimport numpy as np # library for vectorized computation\nimport pandas as pd # library to process data as dataframes\nimport requests\n\nimport matplotlib.pyplot as plt # plotting library\n# backend for rendering plots within the browser\n%matplotlib inline\n\nfrom bs4 import BeautifulSoup\nfrom sklearn.cluster import KMeans \nfrom sklearn.datasets.samples_generator import make_blobs\n\nimport bs4 as bs\nimport urllib.request\n\n# geocoder\n!conda install -c conda-forge geocoder --yes \nimport geocoder\n\nprint('Libraries imported.')", 
            "cell_type": "code", 
            "metadata": {}, 
            "outputs": [
                {
                    "output_type": "stream", 
                    "name": "stdout", 
                    "text": "Waiting for a Spark session to start...\nSpark Initialization Done! ApplicationId = app-20180922210842-0000\nSolving environment: done\n\n## Package Plan ##\n\n  environment location: /opt/ibm/conda/miniconda3\n\n  added / updated specs: \n    - geocoder\n\n\nThe following packages will be downloaded:\n\n    package                    |            build\n    ---------------------------|-----------------\n    geocoder-1.38.1            |             py_0          52 KB  conda-forge\n    certifi-2018.8.24          |        py35_1001         139 KB  conda-forge\n    ca-certificates-2018.8.24  |       ha4d7672_0         136 KB  conda-forge\n    ratelim-0.1.6              |           py35_0           5 KB  conda-forge\n    openssl-1.0.2p             |       h470a237_0         3.5 MB  conda-forge\n    orderedset-2.0             |           py35_0         685 KB  conda-forge\n    conda-4.5.11               |           py35_0         636 KB  conda-forge\n    ------------------------------------------------------------\n                                           Total:         5.1 MB\n\nThe following NEW packages will be INSTALLED:\n\n    geocoder:        1.38.1-py_0           conda-forge\n    orderedset:      2.0-py35_0            conda-forge\n    ratelim:         0.1.6-py35_0          conda-forge\n\nThe following packages will be UPDATED:\n\n    ca-certificates: 2017.08.26-h1d4fec5_0             --> 2018.8.24-ha4d7672_0 conda-forge\n    certifi:         2018.1.18-py35_0                  --> 2018.8.24-py35_1001  conda-forge\n    conda:           4.5.11-py35_0                     --> 4.5.11-py35_0        conda-forge\n    openssl:         1.0.2o-h20670df_0                 --> 1.0.2p-h470a237_0    conda-forge\n\n\nDownloading and Extracting Packages\ngeocoder-1.38.1      | 52 KB     | ##################################### | 100% \ncertifi-2018.8.24    | 139 KB    | ##################################### | 100% \nca-certificates-2018 | 136 KB    | ##################################### | 100% \nratelim-0.1.6        | 5 KB      | ##################################### | 100% \nopenssl-1.0.2p       | 3.5 MB    | ##################################### | 100% \norderedset-2.0       | 685 KB    | ##################################### | 100% \nconda-4.5.11         | 636 KB    | ##################################### | 100% \nPreparing transaction: done\nVerifying transaction: done\nExecuting transaction: done\nLibraries imported.\n"
                }
            ], 
            "execution_count": 1
        }, 
        {
            "source": "# Use the Notebook to build the code to scrape the following Wikipedia page, https://en.wikipedia.org\nurl='https://en.wikipedia.org/wiki/List_of_postal_codes_of_Canada:_M'\n\n# The dataframe will consist of three columns: PostalCode, Borough, and Neighborhood\nsource = urllib.request.urlopen('https://en.wikipedia.org/wiki/List_of_postal_codes_of_Canada:_M').read()\nsoup = bs.BeautifulSoup(source,'html.parser')\n\ntable = soup.find('table')\ntable_rows = table.find_all('tr')\n\nl = []\nfor tr in table_rows:\n    td = tr.find_all('td')\n    row = [tr.text.strip() for tr in td if tr.text.strip()]\n    if row:\n        l.append(row)", 
            "cell_type": "code", 
            "metadata": {}, 
            "outputs": [], 
            "execution_count": 2
        }, 
        {
            "source": "df = pd.DataFrame(l, columns=[\"PostalCode\", \"Borough\", \"Neighbourhood\"])\ndf.head(10)", 
            "cell_type": "code", 
            "metadata": {}, 
            "outputs": [
                {
                    "output_type": "execute_result", 
                    "data": {
                        "text/html": "<div>\n<style scoped>\n    .dataframe tbody tr th:only-of-type {\n        vertical-align: middle;\n    }\n\n    .dataframe tbody tr th {\n        vertical-align: top;\n    }\n\n    .dataframe thead th {\n        text-align: right;\n    }\n</style>\n<table border=\"1\" class=\"dataframe\">\n  <thead>\n    <tr style=\"text-align: right;\">\n      <th></th>\n      <th>PostalCode</th>\n      <th>Borough</th>\n      <th>Neighbourhood</th>\n    </tr>\n  </thead>\n  <tbody>\n    <tr>\n      <th>0</th>\n      <td>M1A</td>\n      <td>Not assigned</td>\n      <td>Not assigned</td>\n    </tr>\n    <tr>\n      <th>1</th>\n      <td>M2A</td>\n      <td>Not assigned</td>\n      <td>Not assigned</td>\n    </tr>\n    <tr>\n      <th>2</th>\n      <td>M3A</td>\n      <td>North York</td>\n      <td>Parkwoods</td>\n    </tr>\n    <tr>\n      <th>3</th>\n      <td>M4A</td>\n      <td>North York</td>\n      <td>Victoria Village</td>\n    </tr>\n    <tr>\n      <th>4</th>\n      <td>M5A</td>\n      <td>Downtown Toronto</td>\n      <td>Harbourfront</td>\n    </tr>\n    <tr>\n      <th>5</th>\n      <td>M5A</td>\n      <td>Downtown Toronto</td>\n      <td>Regent Park</td>\n    </tr>\n    <tr>\n      <th>6</th>\n      <td>M6A</td>\n      <td>North York</td>\n      <td>Lawrence Heights</td>\n    </tr>\n    <tr>\n      <th>7</th>\n      <td>M6A</td>\n      <td>North York</td>\n      <td>Lawrence Manor</td>\n    </tr>\n    <tr>\n      <th>8</th>\n      <td>M7A</td>\n      <td>Queen's Park</td>\n      <td>Not assigned</td>\n    </tr>\n    <tr>\n      <th>9</th>\n      <td>M8A</td>\n      <td>Not assigned</td>\n      <td>Not assigned</td>\n    </tr>\n  </tbody>\n</table>\n</div>", 
                        "text/plain": "  PostalCode           Borough     Neighbourhood\n0        M1A      Not assigned      Not assigned\n1        M2A      Not assigned      Not assigned\n2        M3A        North York         Parkwoods\n3        M4A        North York  Victoria Village\n4        M5A  Downtown Toronto      Harbourfront\n5        M5A  Downtown Toronto       Regent Park\n6        M6A        North York  Lawrence Heights\n7        M6A        North York    Lawrence Manor\n8        M7A      Queen's Park      Not assigned\n9        M8A      Not assigned      Not assigned"
                    }, 
                    "execution_count": 3, 
                    "metadata": {}
                }
            ], 
            "execution_count": 3
        }, 
        {
            "source": "# Only process the cells that have an assigned borough. Ignore cells with a borough that is Not assigned.\ndf = df[df.Borough != 'Not assigned']\ndf.head(10)", 
            "cell_type": "code", 
            "metadata": {}, 
            "outputs": [
                {
                    "output_type": "execute_result", 
                    "data": {
                        "text/html": "<div>\n<style scoped>\n    .dataframe tbody tr th:only-of-type {\n        vertical-align: middle;\n    }\n\n    .dataframe tbody tr th {\n        vertical-align: top;\n    }\n\n    .dataframe thead th {\n        text-align: right;\n    }\n</style>\n<table border=\"1\" class=\"dataframe\">\n  <thead>\n    <tr style=\"text-align: right;\">\n      <th></th>\n      <th>PostalCode</th>\n      <th>Borough</th>\n      <th>Neighbourhood</th>\n    </tr>\n  </thead>\n  <tbody>\n    <tr>\n      <th>2</th>\n      <td>M3A</td>\n      <td>North York</td>\n      <td>Parkwoods</td>\n    </tr>\n    <tr>\n      <th>3</th>\n      <td>M4A</td>\n      <td>North York</td>\n      <td>Victoria Village</td>\n    </tr>\n    <tr>\n      <th>4</th>\n      <td>M5A</td>\n      <td>Downtown Toronto</td>\n      <td>Harbourfront</td>\n    </tr>\n    <tr>\n      <th>5</th>\n      <td>M5A</td>\n      <td>Downtown Toronto</td>\n      <td>Regent Park</td>\n    </tr>\n    <tr>\n      <th>6</th>\n      <td>M6A</td>\n      <td>North York</td>\n      <td>Lawrence Heights</td>\n    </tr>\n    <tr>\n      <th>7</th>\n      <td>M6A</td>\n      <td>North York</td>\n      <td>Lawrence Manor</td>\n    </tr>\n    <tr>\n      <th>8</th>\n      <td>M7A</td>\n      <td>Queen's Park</td>\n      <td>Not assigned</td>\n    </tr>\n    <tr>\n      <th>10</th>\n      <td>M9A</td>\n      <td>Etobicoke</td>\n      <td>Islington Avenue</td>\n    </tr>\n    <tr>\n      <th>11</th>\n      <td>M1B</td>\n      <td>Scarborough</td>\n      <td>Rouge</td>\n    </tr>\n    <tr>\n      <th>12</th>\n      <td>M1B</td>\n      <td>Scarborough</td>\n      <td>Malvern</td>\n    </tr>\n  </tbody>\n</table>\n</div>", 
                        "text/plain": "   PostalCode           Borough     Neighbourhood\n2         M3A        North York         Parkwoods\n3         M4A        North York  Victoria Village\n4         M5A  Downtown Toronto      Harbourfront\n5         M5A  Downtown Toronto       Regent Park\n6         M6A        North York  Lawrence Heights\n7         M6A        North York    Lawrence Manor\n8         M7A      Queen's Park      Not assigned\n10        M9A         Etobicoke  Islington Avenue\n11        M1B       Scarborough             Rouge\n12        M1B       Scarborough           Malvern"
                    }, 
                    "execution_count": 4, 
                    "metadata": {}
                }
            ], 
            "execution_count": 4
        }, 
        {
            "source": "# More than one neighborhood can exist in one postal code area.\ndf = df.groupby(['PostalCode', 'Borough']).agg(', '.join)\ndf = df.reset_index()\ndf.head(10)", 
            "cell_type": "code", 
            "metadata": {}, 
            "outputs": [
                {
                    "output_type": "execute_result", 
                    "data": {
                        "text/html": "<div>\n<style scoped>\n    .dataframe tbody tr th:only-of-type {\n        vertical-align: middle;\n    }\n\n    .dataframe tbody tr th {\n        vertical-align: top;\n    }\n\n    .dataframe thead th {\n        text-align: right;\n    }\n</style>\n<table border=\"1\" class=\"dataframe\">\n  <thead>\n    <tr style=\"text-align: right;\">\n      <th></th>\n      <th>PostalCode</th>\n      <th>Borough</th>\n      <th>Neighbourhood</th>\n    </tr>\n  </thead>\n  <tbody>\n    <tr>\n      <th>0</th>\n      <td>M1B</td>\n      <td>Scarborough</td>\n      <td>Rouge, Malvern</td>\n    </tr>\n    <tr>\n      <th>1</th>\n      <td>M1C</td>\n      <td>Scarborough</td>\n      <td>Highland Creek, Rouge Hill, Port Union</td>\n    </tr>\n    <tr>\n      <th>2</th>\n      <td>M1E</td>\n      <td>Scarborough</td>\n      <td>Guildwood]], Morningside, West Hill</td>\n    </tr>\n    <tr>\n      <th>3</th>\n      <td>M1G</td>\n      <td>Scarborough</td>\n      <td>Woburn</td>\n    </tr>\n    <tr>\n      <th>4</th>\n      <td>M1H</td>\n      <td>Scarborough</td>\n      <td>Cedarbrae</td>\n    </tr>\n    <tr>\n      <th>5</th>\n      <td>M1J</td>\n      <td>Scarborough</td>\n      <td>Scarborough Village</td>\n    </tr>\n    <tr>\n      <th>6</th>\n      <td>M1K</td>\n      <td>Scarborough</td>\n      <td>East Birchmount Park, Ionview, Kennedy Park</td>\n    </tr>\n    <tr>\n      <th>7</th>\n      <td>M1L</td>\n      <td>Scarborough</td>\n      <td>Clairlea, Golden Mile, Oakridge</td>\n    </tr>\n    <tr>\n      <th>8</th>\n      <td>M1M</td>\n      <td>Scarborough</td>\n      <td>Cliffcrest, Cliffside, Scarborough Village West</td>\n    </tr>\n    <tr>\n      <th>9</th>\n      <td>M1N</td>\n      <td>Scarborough</td>\n      <td>Birch Cliff, Cliffside West</td>\n    </tr>\n  </tbody>\n</table>\n</div>", 
                        "text/plain": "  PostalCode      Borough                                    Neighbourhood\n0        M1B  Scarborough                                   Rouge, Malvern\n1        M1C  Scarborough           Highland Creek, Rouge Hill, Port Union\n2        M1E  Scarborough              Guildwood]], Morningside, West Hill\n3        M1G  Scarborough                                           Woburn\n4        M1H  Scarborough                                        Cedarbrae\n5        M1J  Scarborough                              Scarborough Village\n6        M1K  Scarborough      East Birchmount Park, Ionview, Kennedy Park\n7        M1L  Scarborough                  Clairlea, Golden Mile, Oakridge\n8        M1M  Scarborough  Cliffcrest, Cliffside, Scarborough Village West\n9        M1N  Scarborough                      Birch Cliff, Cliffside West"
                    }, 
                    "execution_count": 5, 
                    "metadata": {}
                }
            ], 
            "execution_count": 5
        }, 
        {
            "source": "# If a cell has a borough but a Not assigned neighborhood, then the neighborhood will be the same as the borough.\ndf.loc[df['Neighbourhood']=='Not assigned', ['Neighbourhood']] = 'Queen\\'s Park'\ndf.head(10)", 
            "cell_type": "code", 
            "metadata": {}, 
            "outputs": [
                {
                    "output_type": "execute_result", 
                    "data": {
                        "text/html": "<div>\n<style scoped>\n    .dataframe tbody tr th:only-of-type {\n        vertical-align: middle;\n    }\n\n    .dataframe tbody tr th {\n        vertical-align: top;\n    }\n\n    .dataframe thead th {\n        text-align: right;\n    }\n</style>\n<table border=\"1\" class=\"dataframe\">\n  <thead>\n    <tr style=\"text-align: right;\">\n      <th></th>\n      <th>PostalCode</th>\n      <th>Borough</th>\n      <th>Neighbourhood</th>\n    </tr>\n  </thead>\n  <tbody>\n    <tr>\n      <th>0</th>\n      <td>M1B</td>\n      <td>Scarborough</td>\n      <td>Rouge, Malvern</td>\n    </tr>\n    <tr>\n      <th>1</th>\n      <td>M1C</td>\n      <td>Scarborough</td>\n      <td>Highland Creek, Rouge Hill, Port Union</td>\n    </tr>\n    <tr>\n      <th>2</th>\n      <td>M1E</td>\n      <td>Scarborough</td>\n      <td>Guildwood]], Morningside, West Hill</td>\n    </tr>\n    <tr>\n      <th>3</th>\n      <td>M1G</td>\n      <td>Scarborough</td>\n      <td>Woburn</td>\n    </tr>\n    <tr>\n      <th>4</th>\n      <td>M1H</td>\n      <td>Scarborough</td>\n      <td>Cedarbrae</td>\n    </tr>\n    <tr>\n      <th>5</th>\n      <td>M1J</td>\n      <td>Scarborough</td>\n      <td>Scarborough Village</td>\n    </tr>\n    <tr>\n      <th>6</th>\n      <td>M1K</td>\n      <td>Scarborough</td>\n      <td>East Birchmount Park, Ionview, Kennedy Park</td>\n    </tr>\n    <tr>\n      <th>7</th>\n      <td>M1L</td>\n      <td>Scarborough</td>\n      <td>Clairlea, Golden Mile, Oakridge</td>\n    </tr>\n    <tr>\n      <th>8</th>\n      <td>M1M</td>\n      <td>Scarborough</td>\n      <td>Cliffcrest, Cliffside, Scarborough Village West</td>\n    </tr>\n    <tr>\n      <th>9</th>\n      <td>M1N</td>\n      <td>Scarborough</td>\n      <td>Birch Cliff, Cliffside West</td>\n    </tr>\n  </tbody>\n</table>\n</div>", 
                        "text/plain": "  PostalCode      Borough                                    Neighbourhood\n0        M1B  Scarborough                                   Rouge, Malvern\n1        M1C  Scarborough           Highland Creek, Rouge Hill, Port Union\n2        M1E  Scarborough              Guildwood]], Morningside, West Hill\n3        M1G  Scarborough                                           Woburn\n4        M1H  Scarborough                                        Cedarbrae\n5        M1J  Scarborough                              Scarborough Village\n6        M1K  Scarborough      East Birchmount Park, Ionview, Kennedy Park\n7        M1L  Scarborough                  Clairlea, Golden Mile, Oakridge\n8        M1M  Scarborough  Cliffcrest, Cliffside, Scarborough Village West\n9        M1N  Scarborough                      Birch Cliff, Cliffside West"
                    }, 
                    "execution_count": 6, 
                    "metadata": {}
                }
            ], 
            "execution_count": 6
        }, 
        {
            "source": "What I have done so far on the data cleaning above?\n1. Import and scrap wikipage using BeautifulSoup package.\n2. The dataframe will consist of three columns: PostalCode, Borough, and Neighborhood.\n3. Only process the cells that have an assigned borough. Ignore cells with a borough that is Not assigned.\n4. The rows of same PostalCode and Borough will be combined into one row with the neighborhoods separated with a comma.\n5. If a cell has a borough but a Not assigned neighborhood, then the neighborhood will be the same as the borough.", 
            "cell_type": "markdown", 
            "metadata": {}
        }, 
        {
            "source": "# In the last cell of your notebook, use the .shape method to print the number of rows of your dataframe.\ndf.shape", 
            "cell_type": "code", 
            "metadata": {}, 
            "outputs": [
                {
                    "output_type": "execute_result", 
                    "data": {
                        "text/plain": "(103, 3)"
                    }, 
                    "execution_count": 9, 
                    "metadata": {}
                }
            ], 
            "execution_count": 9
        }, 
        {
            "source": "<b>Project Part 2: Getting the latitude and the longitude coordinates of each neighborhood.</b><br><br>1. Leveraging on the geocoder API.<br>2. Update the coordinates accordingly in the dataframe.<br>3. Display them out accordingly to the layout in the instruction.", 
            "cell_type": "markdown", 
            "metadata": {}
        },        
        {
            "source": "df['Latitude'] = ''\ndf['Longitude'] = ''\n\n# loop through the postal code to find out the latitude and longitude\nfor index, data in df.iterrows():\n    lat_lng_coords = None\n    while(lat_lng_coords is None):\n        g = geocoder.google('{}, Toronto, Ontario'.format(data['PostalCode']))\n        lat_lng_coords = g.latlng\n    data['Latitude'] = lat_lng_coords[0]\n    data['Longitude'] = lat_lng_coords[1]\n    print ('PostalCode:', data['PostalCode'], 'Latitude:', data['Latitude'], 'Longitude:', data['Longitude'])", 
            "cell_type": "code", 
            "metadata": {}, 
            "outputs": [
                {
                    "output_type": "stream", 
                    "name": "stdout", 
                    "text": "PostalCode: M1B Latitude: 43.8066863 Longitude: -79.1943534\nPostalCode: M1C Latitude: 43.78453510000001 Longitude: -79.1604971\nPostalCode: M1E Latitude: 43.7635726 Longitude: -79.1887115\nPostalCode: M1G Latitude: 43.7709921 Longitude: -79.2169174\nPostalCode: M1H Latitude: 43.773136 Longitude: -79.23947609999999\nPostalCode: M1J Latitude: 43.7447342 Longitude: -79.23947609999999\nPostalCode: M1K Latitude: 43.7279292 Longitude: -79.2620294\nPostalCode: M1L Latitude: 43.7111117 Longitude: -79.2845772\nPostalCode: M1M Latitude: 43.716316 Longitude: -79.23947609999999\nPostalCode: M1N Latitude: 43.692657 Longitude: -79.2648481\nPostalCode: M1P Latitude: 43.7574096 Longitude: -79.273304\nPostalCode: M1R Latitude: 43.7500715 Longitude: -79.2958491\nPostalCode: M1S Latitude: 43.7942003 Longitude: -79.2620294\nPostalCode: M1T Latitude: 43.7816375 Longitude: -79.3043021\nPostalCode: M1V Latitude: 43.8152522 Longitude: -79.2845772\nPostalCode: M1W Latitude: 43.7995252 Longitude: -79.3183887\nPostalCode: M1X Latitude: 43.8361247 Longitude: -79.20563609999999\nPostalCode: M2H Latitude: 43.8037622 Longitude: -79.3634517\nPostalCode: M2J Latitude: 43.7785175 Longitude: -79.3465557\nPostalCode: M2K Latitude: 43.7869473 Longitude: -79.385975\nPostalCode: M2L Latitude: 43.7574902 Longitude: -79.37471409999999\nPostalCode: M2M Latitude: 43.789053 Longitude: -79.40849279999999\nPostalCode: M2N Latitude: 43.7701199 Longitude: -79.40849279999999\nPostalCode: M2P Latitude: 43.7527583 Longitude: -79.40004929999999\nPostalCode: M2R Latitude: 43.7827364 Longitude: -79.4422593\nPostalCode: M3A Latitude: 43.7532586 Longitude: -79.3296565\nPostalCode: M3B Latitude: 43.7459058 Longitude: -79.352188\nPostalCode: M3C Latitude: 43.7258997 Longitude: -79.34092299999999\nPostalCode: M3H Latitude: 43.7543283 Longitude: -79.4422593\nPostalCode: M3J Latitude: 43.7679803 Longitude: -79.4872619\nPostalCode: M3K Latitude: 43.7374732 Longitude: -79.4647633\nPostalCode: M3L Latitude: 43.7390146 Longitude: -79.5069436\nPostalCode: M3M Latitude: 43.7284964 Longitude: -79.4956974\nPostalCode: M3N Latitude: 43.7616313 Longitude: -79.5209994\nPostalCode: M4A Latitude: 43.72588229999999 Longitude: -79.3155716\nPostalCode: M4B Latitude: 43.7063972 Longitude: -79.30993699999999\nPostalCode: M4C Latitude: 43.6953439 Longitude: -79.3183887\nPostalCode: M4E Latitude: 43.6763574 Longitude: -79.2930312\nPostalCode: M4G Latitude: 43.7090604 Longitude: -79.3634517\nPostalCode: M4H Latitude: 43.7053689 Longitude: -79.3493719\nPostalCode: M4J Latitude: 43.685347 Longitude: -79.3381065\nPostalCode: M4K Latitude: 43.6795571 Longitude: -79.352188\nPostalCode: M4L Latitude: 43.6689985 Longitude: -79.3155716\nPostalCode: M4M Latitude: 43.6595255 Longitude: -79.34092299999999\nPostalCode: M4N Latitude: 43.7280205 Longitude: -79.3887901\nPostalCode: M4P Latitude: 43.7127511 Longitude: -79.3901975\nPostalCode: M4R Latitude: 43.7153834 Longitude: -79.4056784\nPostalCode: M4S Latitude: 43.7043244 Longitude: -79.3887901\nPostalCode: M4T Latitude: 43.6895743 Longitude: -79.3831599\nPostalCode: M4V Latitude: 43.6864123 Longitude: -79.40004929999999\nPostalCode: M4W Latitude: 43.6795626 Longitude: -79.3775294\nPostalCode: M4X Latitude: 43.667967 Longitude: -79.3676753\nPostalCode: M4Y Latitude: 43.6658599 Longitude: -79.3831599\nPostalCode: M5A Latitude: 43.6542599 Longitude: -79.36063589999999\nPostalCode: M5B Latitude: 43.6571618 Longitude: -79.3789371\nPostalCode: M5C Latitude: 43.6514939 Longitude: -79.3754179\nPostalCode: M5E Latitude: 43.6447708 Longitude: -79.37330639999999\nPostalCode: M5G Latitude: 43.6579524 Longitude: -79.3873826\nPostalCode: M5H Latitude: 43.65057119999999 Longitude: -79.3845675\nPostalCode: M5J Latitude: 43.6408157 Longitude: -79.3817523\nPostalCode: M5K Latitude: 43.6471768 Longitude: -79.3815764\nPostalCode: M5L Latitude: 43.6481985 Longitude: -79.3798169\nPostalCode: M5M Latitude: 43.7332825 Longitude: -79.4197497\nPostalCode: M5N Latitude: 43.7116948 Longitude: -79.4169356\nPostalCode: M5P Latitude: 43.6969476 Longitude: -79.4113072\nPostalCode: M5R Latitude: 43.6727097 Longitude: -79.4056784\nPostalCode: M5S Latitude: 43.6626956 Longitude: -79.40004929999999\nPostalCode: M5T Latitude: 43.6532057 Longitude: -79.40004929999999\nPostalCode: M5V Latitude: 43.6289467 Longitude: -79.3944199\nPostalCode: M5W Latitude: 43.6464352 Longitude: -79.37484599999999\nPostalCode: M5X Latitude: 43.6484292 Longitude: -79.3822802\nPostalCode: M6A Latitude: 43.718518 Longitude: -79.4647633\nPostalCode: M6B Latitude: 43.709577 Longitude: -79.4450726\nPostalCode: M6C Latitude: 43.6937813 Longitude: -79.4281914\nPostalCode: M6E Latitude: 43.68902560000001 Longitude: -79.453512\nPostalCode: M6G Latitude: 43.669542 Longitude: -79.4225637\nPostalCode: M6H Latitude: 43.6690051 Longitude: -79.4422593\nPostalCode: M6J Latitude: 43.6479267 Longitude: -79.4197497\nPostalCode: M6K Latitude: 43.6368472 Longitude: -79.4281914\nPostalCode: M6L Latitude: 43.7137562 Longitude: -79.49007379999999\nPostalCode: M6M Latitude: 43.6911158 Longitude: -79.47601329999999\nPostalCode: M6N Latitude: 43.6731853 Longitude: -79.4872619\nPostalCode: M6P Latitude: 43.6616083 Longitude: -79.4647633\nPostalCode: M6R Latitude: 43.6489597 Longitude: -79.45632499999999\nPostalCode: M6S Latitude: 43.6515706 Longitude: -79.4844499\nPostalCode: M7A Latitude: 43.6623015 Longitude: -79.3894938\nPostalCode: M7R Latitude: 43.6369656 Longitude: -79.615819\nPostalCode: M7Y Latitude: 43.6627439 Longitude: -79.321558\nPostalCode: M8V Latitude: 43.6056466 Longitude: -79.5013207\nPostalCode: M8W Latitude: 43.6024137 Longitude: -79.5434841\nPostalCode: M8X Latitude: 43.6536536 Longitude: -79.5069436\nPostalCode: M8Y Latitude: 43.6362579 Longitude: -79.49850909999999\nPostalCode: M8Z Latitude: 43.6288408 Longitude: -79.5209994\nPostalCode: M9A Latitude: 43.6678556 Longitude: -79.5322424\nPostalCode: M9B Latitude: 43.65094320000001 Longitude: -79.5547244\nPostalCode: M9C Latitude: 43.6435152 Longitude: -79.5772008\nPostalCode: M9L Latitude: 43.7563033 Longitude: -79.56596329999999\nPostalCode: M9M Latitude: 43.7247659 Longitude: -79.5322424\nPostalCode: M9N Latitude: 43.706876 Longitude: -79.5181884\nPostalCode: M9P Latitude: 43.696319 Longitude: -79.5322424\nPostalCode: M9R Latitude: 43.6889054 Longitude: -79.5547244\nPostalCode: M9V Latitude: 43.7394164 Longitude: -79.58843689999999\nPostalCode: M9W Latitude: 43.7067483 Longitude: -79.59405439999999\n"
                }
            ], 
            "execution_count": 23
        }, 
        {
            "source": "# print out the updated dataframe\ndf.head(10)", 
            "cell_type": "code", 
            "metadata": {}, 
            "outputs": [
                {
                    "output_type": "execute_result", 
                    "data": {
                        "text/html": "<div>\n<style scoped>\n    .dataframe tbody tr th:only-of-type {\n        vertical-align: middle;\n    }\n\n    .dataframe tbody tr th {\n        vertical-align: top;\n    }\n\n    .dataframe thead th {\n        text-align: right;\n    }\n</style>\n<table border=\"1\" class=\"dataframe\">\n  <thead>\n    <tr style=\"text-align: right;\">\n      <th></th>\n      <th>PostalCode</th>\n      <th>Borough</th>\n      <th>Neighbourhood</th>\n      <th>Latitude</th>\n      <th>Longitude</th>\n    </tr>\n  </thead>\n  <tbody>\n    <tr>\n      <th>0</th>\n      <td>M1B</td>\n      <td>Scarborough</td>\n      <td>Rouge, Malvern</td>\n      <td>43.8067</td>\n      <td>-79.1944</td>\n    </tr>\n    <tr>\n      <th>1</th>\n      <td>M1C</td>\n      <td>Scarborough</td>\n      <td>Highland Creek, Rouge Hill, Port Union</td>\n      <td>43.7845</td>\n      <td>-79.1605</td>\n    </tr>\n    <tr>\n      <th>2</th>\n      <td>M1E</td>\n      <td>Scarborough</td>\n      <td>Guildwood]], Morningside, West Hill</td>\n      <td>43.7636</td>\n      <td>-79.1887</td>\n    </tr>\n    <tr>\n      <th>3</th>\n      <td>M1G</td>\n      <td>Scarborough</td>\n      <td>Woburn</td>\n      <td>43.771</td>\n      <td>-79.2169</td>\n    </tr>\n    <tr>\n      <th>4</th>\n      <td>M1H</td>\n      <td>Scarborough</td>\n      <td>Cedarbrae</td>\n      <td>43.7731</td>\n      <td>-79.2395</td>\n    </tr>\n    <tr>\n      <th>5</th>\n      <td>M1J</td>\n      <td>Scarborough</td>\n      <td>Scarborough Village</td>\n      <td>43.7447</td>\n      <td>-79.2395</td>\n    </tr>\n    <tr>\n      <th>6</th>\n      <td>M1K</td>\n      <td>Scarborough</td>\n      <td>East Birchmount Park, Ionview, Kennedy Park</td>\n      <td>43.7279</td>\n      <td>-79.262</td>\n    </tr>\n    <tr>\n      <th>7</th>\n      <td>M1L</td>\n      <td>Scarborough</td>\n      <td>Clairlea, Golden Mile, Oakridge</td>\n      <td>43.7111</td>\n      <td>-79.2846</td>\n    </tr>\n    <tr>\n      <th>8</th>\n      <td>M1M</td>\n      <td>Scarborough</td>\n      <td>Cliffcrest, Cliffside, Scarborough Village West</td>\n      <td>43.7163</td>\n      <td>-79.2395</td>\n    </tr>\n    <tr>\n      <th>9</th>\n      <td>M1N</td>\n      <td>Scarborough</td>\n      <td>Birch Cliff, Cliffside West</td>\n      <td>43.6927</td>\n      <td>-79.2648</td>\n    </tr>\n  </tbody>\n</table>\n</div>", 
                        "text/plain": "  PostalCode      Borough                                    Neighbourhood  \\\n0        M1B  Scarborough                                   Rouge, Malvern   \n1        M1C  Scarborough           Highland Creek, Rouge Hill, Port Union   \n2        M1E  Scarborough              Guildwood]], Morningside, West Hill   \n3        M1G  Scarborough                                           Woburn   \n4        M1H  Scarborough                                        Cedarbrae   \n5        M1J  Scarborough                              Scarborough Village   \n6        M1K  Scarborough      East Birchmount Park, Ionview, Kennedy Park   \n7        M1L  Scarborough                  Clairlea, Golden Mile, Oakridge   \n8        M1M  Scarborough  Cliffcrest, Cliffside, Scarborough Village West   \n9        M1N  Scarborough                      Birch Cliff, Cliffside West   \n\n  Latitude Longitude  \n0  43.8067  -79.1944  \n1  43.7845  -79.1605  \n2  43.7636  -79.1887  \n3   43.771  -79.2169  \n4  43.7731  -79.2395  \n5  43.7447  -79.2395  \n6  43.7279   -79.262  \n7  43.7111  -79.2846  \n8  43.7163  -79.2395  \n9  43.6927  -79.2648  "
                    }, 
                    "execution_count": 25, 
                    "metadata": {}
                }
            ], 
            "execution_count": 25
        }, 
        {
            "source": "# double check on the dataframe\nprint('The dataframe has {} boroughs and {} neighborhoods.'.format(\n        len(df['Borough'].unique()),\n        df.shape[0]\n    )\n)", 
            "cell_type": "code", 
            "metadata": {}, 
            "outputs": [
                {
                    "output_type": "stream", 
                    "name": "stdout", 
                    "text": "The dataframe has 11 boroughs and 103 neighborhoods.\n"
                }
            ], 
            "execution_count": 27
        }, 
        {
            "source": "<b>Outcome:</b><br><br>For above, I have added the latitude and longtitude for each postal code in the dataframe.", 
            "cell_type": "markdown", 
            "metadata": {}
        }, 
        {
            "source": "", 
            "cell_type": "code", 
            "metadata": {}, 
            "outputs": [], 
            "execution_count": null
        }
    ], 
    "metadata": {
        "kernelspec": {
            "display_name": "Python 3.5 with Spark", 
            "name": "python3", 
            "language": "python3"
        }, 
        "language_info": {
            "mimetype": "text/x-python", 
            "nbconvert_exporter": "python", 
            "version": "3.5.4", 
            "name": "python", 
            "pygments_lexer": "ipython3", 
            "file_extension": ".py", 
            "codemirror_mode": {
                "version": 3, 
                "name": "ipython"
            }
        }
    }, 
    "nbformat": 4
}
